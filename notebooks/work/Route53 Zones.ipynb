{
 "cells": [
  {
   "cell_type": "code",
   "execution_count": 1,
   "id": "4000974a",
   "metadata": {},
   "outputs": [],
   "source": [
    "import boto3\n"
   ]
  },
  {
   "cell_type": "markdown",
   "id": "6c4452ff",
   "metadata": {},
   "source": [
    "### Set the default profile to point to one defined in your credentials file"
   ]
  },
  {
   "cell_type": "code",
   "execution_count": 4,
   "id": "8d50bcc7",
   "metadata": {},
   "outputs": [],
   "source": [
    "boto3.setup_default_session(profile_name='davescode')"
   ]
  },
  {
   "cell_type": "markdown",
   "id": "ee16a06a",
   "metadata": {},
   "source": [
    "### List all Route53 Zones by name"
   ]
  },
  {
   "cell_type": "code",
   "execution_count": 9,
   "id": "0aeae29f",
   "metadata": {},
   "outputs": [
    {
     "data": {
      "text/plain": [
       "'daves-co.de.'"
      ]
     },
     "metadata": {},
     "output_type": "display_data"
    }
   ],
   "source": [
    "r53 = boto3.client('route53')\n",
    "\n",
    "zones = r53.list_hosted_zones_by_name()\n",
    "\n",
    "for zone in list(zones[\"HostedZones\"]):\n",
    "    display(zone[\"Name\"])"
   ]
  }
 ],
 "metadata": {
  "kernelspec": {
   "display_name": "Python 3",
   "language": "python",
   "name": "python3"
  },
  "language_info": {
   "codemirror_mode": {
    "name": "ipython",
    "version": 3
   },
   "file_extension": ".py",
   "mimetype": "text/x-python",
   "name": "python",
   "nbconvert_exporter": "python",
   "pygments_lexer": "ipython3",
   "version": "3.8.8"
  }
 },
 "nbformat": 4,
 "nbformat_minor": 5
}
